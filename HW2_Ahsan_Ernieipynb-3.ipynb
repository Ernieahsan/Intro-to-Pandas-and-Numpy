{
  "nbformat": 4,
  "nbformat_minor": 0,
  "metadata": {
    "colab": {
      "name": "HW2_Ahsan_Ernieipynb",
      "provenance": [],
      "collapsed_sections": []
    },
    "kernelspec": {
      "name": "python3",
      "display_name": "Python 3"
    }
  },
  "cells": [
    {
      "cell_type": "markdown",
      "metadata": {
        "id": "bNsIruOzI4iF"
      },
      "source": [
        "## **Homework 2**\n",
        "\n",
        "### Create a copy of the notebook to start answering the questions. Name your notebook in the format HW2_lastname_firstname.ipynb to facilitate the grading process. \n",
        "\n",
        "### Answer all the questions, test your code to ensure there are no errors and the results are as expected. Once you have answered all the questions, save the final copy, then go to File-> click on Download.ipynb. Once the local copy has been downloaded, submit your file on Blackboard under the corresponding assignment section. Also provide us a link to your notebook during submission. \n",
        "\n",
        "### **The due date of this homework is 02/12/2021 (Friday).**\n",
        "\n",
        "### Please ensure you follow all the steps mentioned in the homework.\n",
        "\n",
        "### All the questions have a sample input and output to help you understand the question.\n",
        "\n",
        "### You can submit your solutions any number of times until the deadline.\n"
      ]
    },
    {
      "cell_type": "markdown",
      "metadata": {
        "id": "U3Yz3s2uio1F"
      },
      "source": [
        "**Q1. Lets consider your data is like the below cell:**\n",
        "\n",
        "**Q1-1**: Write a program that create a dataframe from the data.\n",
        "\n",
        "**Q1-2:** Select people that are psychologist or teacher and their number of cars is greater than their family size.\n",
        "\n",
        "**Q1-3:** Select people who have at most 2 family members and at least 1 car.\n",
        "\n",
        "**Q1-4:** Write a code that get number of unique jobs in this dataset.\n",
        "\n",
        "\n",
        "\n"
      ]
    },
    {
      "cell_type": "code",
      "metadata": {
        "id": "yR8lcOtcjxXD"
      },
      "source": [
        "data = {\"name\": [\"Joseph\", \"Jacob\", \"Sam\", \"Jesee\", \"Ryan\", \"Lisa\", \"Lee\"],\n",
        "        \"job\": [\"teacher\", \"psychologist\", \"data scientist\", \"software developer\", \"psychologist\", \"psychologist\", \"teacher\"],\n",
        "        \"family_size\": [3, 2, 1, 4, 2, 3, 2],\n",
        "        \"num_cars\": [3, 1, 1, 2, 2, 4, 1]}"
      ],
      "execution_count": null,
      "outputs": []
    },
    {
      "cell_type": "code",
      "metadata": {
        "id": "Youi5qMaP34p",
        "colab": {
          "base_uri": "https://localhost:8080/"
        },
        "outputId": "9a60bced-8f8c-463c-c0a5-2e4662458d6c"
      },
      "source": [
        "# Type your solution here\n",
        "import pandas as pd\n",
        "\n",
        "dataFrame = pd.DataFrame(data)\n",
        "print(dataFrame)\n",
        "print(\"-----------------\")\n",
        "print(dataFrame.loc[dataFrame.num_cars > dataFrame.family_size],[\"Psychologist\",\"Teacher\"])\n",
        "print(\"------------------------\")\n",
        "\n",
        "print(dataFrame.loc[dataFrame.family_size <= 2],[dataFrame.num_cars >= 1])\n",
        "print(\"-------------------------------\")\n",
        "print(len(set(dataFrame.job)))"
      ],
      "execution_count": null,
      "outputs": [
        {
          "output_type": "stream",
          "text": [
            "     name                 job  family_size  num_cars\n",
            "0  Joseph             teacher            3         3\n",
            "1   Jacob        psychologist            2         1\n",
            "2     Sam      data scientist            1         1\n",
            "3   Jesee  software developer            4         2\n",
            "4    Ryan        psychologist            2         2\n",
            "5    Lisa        psychologist            3         4\n",
            "6     Lee             teacher            2         1\n",
            "-----------------\n",
            "   name           job  family_size  num_cars\n",
            "5  Lisa  psychologist            3         4 ['Psychologist', 'Teacher']\n",
            "------------------------\n",
            "    name             job  family_size  num_cars\n",
            "1  Jacob    psychologist            2         1\n",
            "2    Sam  data scientist            1         1\n",
            "4   Ryan    psychologist            2         2\n",
            "6    Lee         teacher            2         1 [0    True\n",
            "1    True\n",
            "2    True\n",
            "3    True\n",
            "4    True\n",
            "5    True\n",
            "6    True\n",
            "Name: num_cars, dtype: bool]\n",
            "-------------------------------\n",
            "4\n"
          ],
          "name": "stdout"
        }
      ]
    },
    {
      "cell_type": "markdown",
      "metadata": {
        "id": "Ow6nG8k4l91X"
      },
      "source": [
        "**Q2. Lets consider you have two series like the below cell. Compute the mean of weights of each fruit.**"
      ]
    },
    {
      "cell_type": "code",
      "metadata": {
        "id": "u-X_DoOzVLLB"
      },
      "source": [
        "import numpy as np\n",
        "import pandas as pd\n",
        "\n",
        "fruit = pd.Series(np.random.choice(['apple', 'banana', 'carrot'], 10))\n",
        "weights = pd.Series(np.linspace(1, 10, 10))"
      ],
      "execution_count": null,
      "outputs": []
    },
    {
      "cell_type": "code",
      "metadata": {
        "id": "LTmG9QPdbc5p"
      },
      "source": [
        ""
      ],
      "execution_count": null,
      "outputs": []
    },
    {
      "cell_type": "code",
      "metadata": {
        "colab": {
          "base_uri": "https://localhost:8080/"
        },
        "id": "D9J47InJagx_",
        "outputId": "91b25d58-b839-4cf6-87c4-6a170c6edab4"
      },
      "source": [
        "import pandas as pd\n",
        "'''\n",
        "x = pd.concat([fruit,weights], axis = 1)\n",
        "print(x)\n",
        "print(\"----\")\n",
        "print(np.mean(x.loc[:,\"banana\"]))\n",
        "loc method did not work with indexing, will try using lists\n",
        "instead of lists, dictionaries are more effiient since key is the fruit and value is weight, just combinign thenm then doign \n",
        "calculation would be efficient\n",
        "'''\n",
        "\n",
        "\n",
        "dictionaryFruits = {\"Carrot\":[],\"Banana\":[],\"Apple\":[]}\n",
        "for index in range(0,10,1): #RANGE EQUALS AMOUNT OF TIMES IT WILL GO\n",
        "  if fruit[index] == \"carrot\":      #if index = carrot, then append the weight at the same index where carrot is identified (for each fruit)\n",
        "    dictionaryFruits[\"Carrot\"].append(weights[index])\n",
        "  elif fruit[index] == \"banana\":\n",
        "    dictionaryFruits[\"Banana\"].append(weights[index])\n",
        "  elif fruit[index] == \"apple\":\n",
        "    dictionaryFruits[\"Apple\"].append(weights[index])\n",
        "\n",
        "\n",
        "#print(dictionaryFruits)\n",
        "\n",
        "for fruitName in dictionaryFruits:\n",
        "  meanFruit = np.mean(dictionaryFruits[fruitName])\n",
        "  print(\"fruitname: \", fruitName, meanFruit)\n",
        "\n",
        "\n"
      ],
      "execution_count": null,
      "outputs": [
        {
          "output_type": "stream",
          "text": [
            "fruitname:  Carrot 2.5\n",
            "fruitname:  Banana 6.0\n",
            "fruitname:  Apple 6.5\n"
          ],
          "name": "stdout"
        }
      ]
    },
    {
      "cell_type": "code",
      "metadata": {
        "id": "S419nzYnpU__"
      },
      "source": [
        "# Type your solution here\n"
      ],
      "execution_count": null,
      "outputs": []
    },
    {
      "cell_type": "markdown",
      "metadata": {
        "id": "g4lKaPIhtVrt"
      },
      "source": [
        "**Q3. Consider the below course_name array:**\n",
        "\n",
        "**Q3-1**: Write a NumPy program to get the indices of the sorted elements of **course_name** array.\n",
        "\n",
        "**Q3-2:** Write numpy code to check whether each element of **course_name** array starts with \"P\".\n"
      ]
    },
    {
      "cell_type": "code",
      "metadata": {
        "id": "RUP_jp2KtVrx"
      },
      "source": [
        "import numpy as np\n",
        "course_name = np.array(['Python', 'JS', 'examples', 'PHP', 'html'])"
      ],
      "execution_count": null,
      "outputs": []
    },
    {
      "cell_type": "code",
      "metadata": {
        "colab": {
          "base_uri": "https://localhost:8080/"
        },
        "id": "r1RO1MDQgvM5",
        "outputId": "25e09c53-ba59-41a7-fe25-47149cf06483"
      },
      "source": [
        "x = np.sort(course_name) #sort was never covered in class, which is already unacceptable\n",
        "#furthermore, without any specification on HOW to sort, there is no way to check that my sort actually worked.\n",
        "#lastly, without a sample output (as promised at the top of document, I feel very powerless. will bring up in OH)\n",
        "indexNumPython = list(x).index(\"Python\")\n",
        "indexNumJS = list(x).index(\"JS\")\n",
        "indexNumExamples = list(x).index(\"examples\")\n",
        "indexNumPHP = list(x).index(\"PHP\")\n",
        "indexNumHTML = list(x).index(\"html\")\n",
        "\n",
        "\n",
        "print(\"Python Index:\",indexNumPython)\n",
        "print(\"JS index: \", indexNumJS)\n",
        "print(\"examples index:\", indexNumExamples)\n",
        "print(\"PHP index:\", indexNumPHP)\n",
        "print(\"HTML index:\", indexNumHTML)"
      ],
      "execution_count": null,
      "outputs": [
        {
          "output_type": "stream",
          "text": [
            "Python Index: 2\n",
            "JS index:  0\n",
            "examples index: 3\n",
            "PHP index: 1\n",
            "HTML index: 4\n"
          ],
          "name": "stdout"
        }
      ]
    },
    {
      "cell_type": "code",
      "metadata": {
        "id": "U1i27POxv-o_",
        "colab": {
          "base_uri": "https://localhost:8080/"
        },
        "outputId": "a15a64b7-bd5c-4e8a-e655-d7c22bdd86f9"
      },
      "source": [
        "# Type your solution here\n",
        "#since it specifically says numpy code, i will google and try to find a function that does this \n",
        "#since we did not learn anything remotely like this in class :)\n",
        "\n",
        "firstCharacter = np.char.startswith(course_name,\"P\")\n",
        "print(\"In order to be organized, I will print the array and then firstCharacter so it lines up\")\n",
        "print(course_name)\n",
        "print(firstCharacter)\n"
      ],
      "execution_count": null,
      "outputs": [
        {
          "output_type": "stream",
          "text": [
            "In order to be organized, I will print the array and then firstCharacter so it lines up\n",
            "['Python' 'JS' 'examples' 'PHP' 'html']\n",
            "[ True False False  True False]\n"
          ],
          "name": "stdout"
        }
      ]
    },
    {
      "cell_type": "markdown",
      "metadata": {
        "id": "sUFItNFOxwkz"
      },
      "source": [
        "**Q4. Consider the below student_id array:**\n",
        "\n",
        "**Q4-1:** Reverse the **student_id** array. Print both original and reversed array.\n",
        "\n",
        "**Q4-2:** Get the 3-largest values of **student_id** array."
      ]
    },
    {
      "cell_type": "code",
      "metadata": {
        "id": "Rl5qzEjFv0nw"
      },
      "source": [
        "import numpy as np\n",
        "student_id = np.array([1023, 5202, 6230, 1671, 1682, 5241, 4532])"
      ],
      "execution_count": null,
      "outputs": []
    },
    {
      "cell_type": "code",
      "metadata": {
        "colab": {
          "base_uri": "https://localhost:8080/"
        },
        "id": "fT2AcdMgmFbq",
        "outputId": "a4425c8b-0bad-406a-ac02-27f636d0cccc"
      },
      "source": [
        "print(student_id)\n",
        "flippedArray = np.flipud(student_id)\n",
        "print(flippedArray)"
      ],
      "execution_count": null,
      "outputs": [
        {
          "output_type": "stream",
          "text": [
            "[1023 5202 6230 1671 1682 5241 4532]\n",
            "[4532 5241 1682 1671 6230 5202 1023]\n"
          ],
          "name": "stdout"
        }
      ]
    },
    {
      "cell_type": "code",
      "metadata": {
        "colab": {
          "base_uri": "https://localhost:8080/"
        },
        "id": "EjHD_wsXmHNw",
        "outputId": "6562d93d-8553-4341-fc56-9bf60e5028db"
      },
      "source": [
        "print(student_id)\n",
        "student_id.sort()\n",
        "print(student_id)\n",
        "#three largest values are at the end\n",
        "print(student_id[[-1,-2,-3]])"
      ],
      "execution_count": null,
      "outputs": [
        {
          "output_type": "stream",
          "text": [
            "[1023 1671 1682 4532 5202 5241 6230]\n",
            "[1023 1671 1682 4532 5202 5241 6230]\n",
            "[6230 5241 5202]\n"
          ],
          "name": "stdout"
        }
      ]
    },
    {
      "cell_type": "code",
      "metadata": {
        "id": "EetvHGrUxMCC"
      },
      "source": [
        "# Type your solution here"
      ],
      "execution_count": null,
      "outputs": []
    },
    {
      "cell_type": "markdown",
      "metadata": {
        "id": "uKRyDVuW6B19"
      },
      "source": [
        "# **Q5: Write a numpy program to print sum of all the multiples of 3 or 5 below 100**"
      ]
    },
    {
      "cell_type": "code",
      "metadata": {
        "id": "ZIixq1gz6OK3",
        "colab": {
          "base_uri": "https://localhost:8080/"
        },
        "outputId": "8a354621-5e87-4d33-ed21-9ffe038fd4f0"
      },
      "source": [
        "# Type your solution here\n",
        "\n",
        "# Hint: you can use arange to start off\n",
        "x = np.arange(100)\n",
        "multipleThree = np.where(x%3==0)\n",
        "multipleFive = np.where(x%5==0)\n",
        "print(np.sum(multipleThree))\n",
        "print(np.sum(multipleFive))\n",
        "ntotalThreeAndFiveSum = np.sum(multipleFive) + np.sum(multipleThree)\n",
        "print(\"total of three and five:\", ntotalThreeAndFiveSum)\n"
      ],
      "execution_count": null,
      "outputs": [
        {
          "output_type": "stream",
          "text": [
            "1683\n",
            "950\n",
            "total of three and five: 2633\n"
          ],
          "name": "stdout"
        }
      ]
    },
    {
      "cell_type": "markdown",
      "metadata": {
        "id": "2CWJOsP24c34"
      },
      "source": [
        "**Q6. Consider the below array.**\n",
        "\n",
        "Q6.1. Write a code to swap column 1 with column 2.\n",
        "\n",
        "Q6.2. Write a code to swap row 0 with row 1."
      ]
    },
    {
      "cell_type": "code",
      "metadata": {
        "id": "3OG6X5Eg5KSM",
        "colab": {
          "base_uri": "https://localhost:8080/"
        },
        "outputId": "0c1e4732-62e8-48e4-98d8-1e43fe410932"
      },
      "source": [
        "import numpy as np\n",
        "\n",
        "arr = np.arange(12).reshape(3,4) \n",
        "print(arr)"
      ],
      "execution_count": null,
      "outputs": [
        {
          "output_type": "stream",
          "text": [
            "[[ 0  1  2  3]\n",
            " [ 4  5  6  7]\n",
            " [ 8  9 10 11]]\n"
          ],
          "name": "stdout"
        }
      ]
    },
    {
      "cell_type": "code",
      "metadata": {
        "id": "Q-Q91DpO5YYW",
        "colab": {
          "base_uri": "https://localhost:8080/"
        },
        "outputId": "e01bb40a-7bf8-4f86-c426-3a521e3150d0"
      },
      "source": [
        "# Type your solution here\n",
        "#3 rows and 4 columns\n",
        "\n",
        "modifiedArray = arr\n",
        "modifiedArray[:,[1,2]] = modifiedArray[:,[2,1]]\n",
        "print(modifiedArray)\n",
        "\n",
        "print(\"----------------------------\")\n",
        "modifiedArray[[0,1],:] = modifiedArray[[1,0],:]\n",
        "print(modifiedArray)\n"
      ],
      "execution_count": null,
      "outputs": [
        {
          "output_type": "stream",
          "text": [
            "[[ 4  5  6  7]\n",
            " [ 0  1  2  3]\n",
            " [ 8  9 10 11]]\n",
            "----------------------------\n",
            "[[ 0  1  2  3]\n",
            " [ 4  5  6  7]\n",
            " [ 8  9 10 11]]\n"
          ],
          "name": "stdout"
        }
      ]
    }
  ]
}